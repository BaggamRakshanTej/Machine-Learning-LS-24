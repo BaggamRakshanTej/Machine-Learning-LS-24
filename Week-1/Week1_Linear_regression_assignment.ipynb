{
  "nbformat": 4,
  "nbformat_minor": 0,
  "metadata": {
    "colab": {
      "provenance": []
    },
    "kernelspec": {
      "name": "python3",
      "display_name": "Python 3"
    },
    "language_info": {
      "name": "python"
    }
  },
  "cells": [
    {
      "cell_type": "code",
      "source": [
        "from google.colab import drive\n",
        "drive.mount('/content/drive')"
      ],
      "metadata": {
        "colab": {
          "base_uri": "https://localhost:8080/"
        },
        "id": "t1TOVJypI22p",
        "outputId": "856bfb1c-deb1-4094-8e32-b1c322f56f06"
      },
      "execution_count": null,
      "outputs": [
        {
          "output_type": "stream",
          "name": "stdout",
          "text": [
            "Mounted at /content/drive\n"
          ]
        }
      ]
    },
    {
      "cell_type": "code",
      "execution_count": null,
      "metadata": {
        "id": "-zTLHrFCT6KY"
      },
      "outputs": [],
      "source": [
        "import numpy as np\n",
        "import pandas as pd\n",
        "import matplotlib.pyplot as plt\n",
        "from sklearn.preprocessing import LabelEncoder\n",
        "\n",
        "# Aim is to predict the marks of students of the test data"
      ]
    },
    {
      "cell_type": "code",
      "source": [
        "# Use the file namd 'training data' to train the model\n",
        "\n",
        "# import path\n",
        "path = r\"/content/drive/MyDrive/Learners space'24/Machine Learning/Training data.xlsx\"\n",
        "\n",
        "# data = pd.read_excel('Training data.xlsx')\n",
        "data = pd.read_excel(path)\n",
        "x_train = np.array(data.iloc[:,0:8])\n",
        "y_train = np.array(data.iloc[:,8]).reshape(-1,1)\n",
        "\n",
        "# print(x_train, '\\n')\n",
        "# print(y_train)\n",
        "# print(x_train.shape)\n",
        "# print(y_train.shape)\n",
        "# print(type(x_train[0][0]))\n",
        "\n",
        "# x_train -> 1000 rows, 8 columns\n",
        "# y_train -> 1000 rows, 1 column\n",
        "# x_train -> 0 and 1 columns of x_train show str"
      ],
      "metadata": {
        "id": "p0KHq8ZgTpU4"
      },
      "execution_count": null,
      "outputs": []
    },
    {
      "cell_type": "code",
      "source": [
        "# Try plotting y_train with different features\n",
        "# To get an idea whether to add some features or not\n",
        "# Add some features if required in x_train\n",
        "\n",
        "# Also do label encoding for features not represented in numbers\n",
        "# refer the link if not know : https://youtu.be/589nCGeWG1w?si=t2Wa7LgbUOO4RooM\n",
        "\n",
        "def feature_changing(x_train):\n",
        "  # ---------\n",
        "    # Your code\n",
        "    label_encoders = {}\n",
        "    for i in range(x_train.shape[1]):\n",
        "        if isinstance(x_train[0, i], str):\n",
        "            le = LabelEncoder()\n",
        "            x_train[:, i] = le.fit_transform(x_train[:, i])\n",
        "            label_encoders[i] = le\n",
        "    return x_train, label_encoders\n",
        "  # ---------\n",
        "#   return x_train\n",
        "\n",
        "x_train, label_encoders = feature_changing(x_train)\n",
        "# print(x_train)\n",
        "# print(label_encoders)"
      ],
      "metadata": {
        "id": "RxWNwQlxJL_v"
      },
      "execution_count": null,
      "outputs": []
    },
    {
      "cell_type": "code",
      "source": [
        "def z_score(x_train):\n",
        "\n",
        "  # ---------\n",
        "    # write the code for feature scaling here\n",
        "    # x_train = x_train.astype(float)\n",
        "    x_mean = np.mean(x_train, axis = 0)\n",
        "    x_std = np.std(x_train, axis = 0)\n",
        "    x_train = (x_train-x_mean)/x_std\n",
        "    # Your code here\n",
        "  # ---------\n",
        "\n",
        "    return x_train,x_std,x_mean\n",
        "\n",
        "# print(type(x_train[0][5]))\n",
        "\n",
        "# x_train, x_std, x_mean = z_score(x_train)\n",
        "# print(x_train.shape) # 1000 rows and 8 columns\n",
        "# print(x_train)"
      ],
      "metadata": {
        "id": "tYshvtYlVour"
      },
      "execution_count": null,
      "outputs": []
    },
    {
      "cell_type": "code",
      "source": [
        "def cost(x_train,y_train,w,b):\n",
        "\n",
        "  # ---------\n",
        "    # Your code here\n",
        "    # Use mean square error as cost function\n",
        "    # return cost\n",
        "\n",
        "    # predictions\n",
        "    y_pred = np.dot(x_train, w) + b\n",
        "\n",
        "    # error\n",
        "    error = y_pred - y_train\n",
        "    # print(error.shape)\n",
        "\n",
        "    # loss\n",
        "    loss = np.mean(error ** 2)\n",
        "  # ---------\n",
        "\n",
        "    return loss\n",
        "\n",
        "# cost(x_train, y_train, w=np.random.randn(x_train.shape[1],1), b=1)"
      ],
      "metadata": {
        "id": "O5dOwbNbWJWa"
      },
      "execution_count": null,
      "outputs": []
    },
    {
      "cell_type": "code",
      "source": [
        "def gradient_descent(x_train,y_train,w,b):\n",
        "\n",
        "  # ---------\n",
        "    # Your code here\n",
        "    # Choose learning rate yourself\n",
        "\n",
        "    m = x_train.shape[0]  # Number of training examples --> 1000 rows\n",
        "    num_iterations = 30000\n",
        "    alpha = 0.04\n",
        "\n",
        "    # prediction\n",
        "    y_pred = np.dot(x_train, w) + b\n",
        "\n",
        "    # error\n",
        "    error = y_pred - y_train # 1000 rows, 1 column\n",
        "\n",
        "    # Compute the gradients\n",
        "    dj_dw = (1 / m) * np.dot(x_train.T, error) # (8, 1000) and (1000, 1)\n",
        "    dj_db = (1 / m) * np.sum(error)\n",
        "\n",
        "    # Update the weights and bias\n",
        "    w -= alpha * dj_dw\n",
        "    b -= alpha * dj_db\n",
        "  # ---------\n",
        "\n",
        "    return w,b\n",
        "\n",
        "# w_grad, b_grad = gradient_descent(x_train, y_train, w = np.random.randn(x_train.shape[1],1), b = np.random.randn(1))\n",
        "# print(w_grad.shape) # (8, 1) --> perfect\n",
        "# print(b_grad.shape) # (1, ) --> perfect"
      ],
      "metadata": {
        "id": "hW8p2cTNU74W"
      },
      "execution_count": null,
      "outputs": []
    },
    {
      "cell_type": "code",
      "source": [
        "path = r\"/content/drive/MyDrive/Learners space'24/Machine Learning/Test data.xlsx\"\n",
        "\n",
        "x_train = x_train.astype(np.float64)\n",
        "x_train,x_std,x_mean = z_score(x_train)\n",
        "\n",
        "np.random.seed(2147483647)\n",
        "w = np.random.randn(x_train.shape[1],1)\n",
        "b = np.random.randn(1)\n",
        "\n",
        "old_cost = 0\n",
        "\n",
        "while abs(old_cost - cost(x_train,y_train,w,b))>0.00001:\n",
        "  old_cost = cost(x_train,y_train,w,b)\n",
        "  w,b = gradient_descent(x_train,y_train,w,b)\n",
        "\n",
        "# x_predict = pd.read_excel('Test data.xlsx').iloc[:,:8].to_numpy()\n",
        "# x_predict = feature_changing(x_predict)\n",
        "# x_predict = (x_predict - x_mean)/x_std\n",
        "# ans = pd.read_excel('Test data.xlsx').iloc[:,8].to_numpy()\n",
        "\n",
        "x_predict = pd.read_excel(path).iloc[:,:8].to_numpy()\n",
        "\n",
        "# feature changing\n",
        "for i, le in label_encoders.items():\n",
        "    x_predict[:, i] = le.transform(x_predict[:, i])\n",
        "\n",
        "x_predict = (x_predict - x_mean)/x_std\n",
        "ans = pd.read_excel(path).iloc[:,8].to_numpy()\n",
        "\n",
        "y_predict = np.dot(x_predict,w) + b\n",
        "\n",
        "accuracy = 0\n",
        "for dim in range(len(ans)):\n",
        "  if abs(y_predict[dim]-ans[dim])<0.5: # do not change the tolerance as you'll be checked on +- 0.5 error only\n",
        "    accuracy += 1\n",
        "accuracy = round(accuracy*100/200.0,2)\n",
        "ok = 'Congratulations' if accuracy>95 else 'Optimization required'\n",
        "print(f\"{ok}, your accuracy is {accuracy}%\")"
      ],
      "metadata": {
        "id": "Kl-fioJ5WkYn",
        "colab": {
          "base_uri": "https://localhost:8080/"
        },
        "outputId": "b1048f0d-d79d-40e3-836d-09c7b627c5a5"
      },
      "execution_count": null,
      "outputs": [
        {
          "output_type": "stream",
          "name": "stdout",
          "text": [
            "Congratulations, your accuracy is 100.0%\n"
          ]
        }
      ]
    }
  ]
}